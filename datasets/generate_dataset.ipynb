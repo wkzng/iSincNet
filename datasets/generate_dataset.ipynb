{
 "cells": [
  {
   "cell_type": "code",
   "execution_count": 1,
   "id": "a7cff351-2514-4d0f-aca2-42d1ce7408a9",
   "metadata": {},
   "outputs": [],
   "source": [
    "import pandas as pd\n",
    "from glob import glob\n",
    "import os\n",
    "import compress_json"
   ]
  },
  {
   "cell_type": "code",
   "execution_count": 2,
   "id": "3baa2b5e-0d97-45cb-ab7f-856fe5e94fb0",
   "metadata": {},
   "outputs": [],
   "source": [
    "from dotenv import load_dotenv\n",
    "\n",
    "load_dotenv(\"../.env\")\n",
    "\n",
    "sample_rate = os.getenv(\"SAMPLE_RATE\")\n",
    "chunk_duration = int(os.getenv(\"CHUNK_DURATION\"))\n",
    "chunk_stride_factor = float(os.getenv(\"CHUNK_STRIDE_FACTOR\"))\n",
    "\n",
    "dataset_name = \"gtzan\"\n",
    "output_dataset_path = os.path.join(\"compiled\", dataset_name, \"dataset.parquet\")"
   ]
  },
  {
   "cell_type": "code",
   "execution_count": null,
   "id": "26f4969e",
   "metadata": {},
   "outputs": [],
   "source": []
  },
  {
   "cell_type": "markdown",
   "id": "53905c94-02d3-4921-b08b-06046bc3ecbd",
   "metadata": {},
   "source": [
    "## 1. Locate all files eligible for modelling"
   ]
  },
  {
   "cell_type": "code",
   "execution_count": 3,
   "id": "a56d27a6-b55d-418e-83f2-8c3409324858",
   "metadata": {},
   "outputs": [],
   "source": [
    "\n",
    "patterns = [\n",
    "    os.path.join(\"/mnt/d/sonus_library/gtzan\", \"*/description.json\"),\n",
    "    #os.path.join(\"/mnt/e/sonus_library/youtube\", \"*/description.json\"),\n",
    "    #os.path.join(\"/mnt/e/sonus_library/raw_beatport\", \"*/description.json\"),\n",
    "]\n",
    "\n",
    "files = []\n",
    "for pattern in patterns:\n",
    "    files.extend(glob(pattern))"
   ]
  },
  {
   "cell_type": "code",
   "execution_count": 4,
   "id": "f2482dae-b129-41cb-9472-41204251d26e",
   "metadata": {},
   "outputs": [
    {
     "data": {
      "text/plain": [
       "['/mnt/d/sonus_library/gtzan/blues/description.json',\n",
       " '/mnt/d/sonus_library/gtzan/classical/description.json',\n",
       " '/mnt/d/sonus_library/gtzan/country/description.json',\n",
       " '/mnt/d/sonus_library/gtzan/disco/description.json',\n",
       " '/mnt/d/sonus_library/gtzan/hiphop/description.json',\n",
       " '/mnt/d/sonus_library/gtzan/jazz/description.json',\n",
       " '/mnt/d/sonus_library/gtzan/metal/description.json',\n",
       " '/mnt/d/sonus_library/gtzan/pop/description.json',\n",
       " '/mnt/d/sonus_library/gtzan/reggae/description.json',\n",
       " '/mnt/d/sonus_library/gtzan/rock/description.json']"
      ]
     },
     "execution_count": 4,
     "metadata": {},
     "output_type": "execute_result"
    }
   ],
   "source": [
    "files"
   ]
  },
  {
   "cell_type": "code",
   "execution_count": 5,
   "id": "40c232dd",
   "metadata": {},
   "outputs": [],
   "source": [
    "def load_description(file_path:str):\n",
    "    directory = os.path.dirname(file_path)\n",
    "    data = compress_json.load(file_path)\n",
    "    for datum in data:\n",
    "        file_name = datum[\"filename\"]\n",
    "        datum[\"main_genre\"] = datum[\"genres\"][0]\n",
    "        datum[\"file_path\"] = os.path.join(directory, file_name)\n",
    "    return data"
   ]
  },
  {
   "cell_type": "code",
   "execution_count": 6,
   "id": "9a8a6954-5c6f-4d29-900a-0fa11ea2053f",
   "metadata": {},
   "outputs": [
    {
     "data": {
      "text/html": [
       "<div>\n",
       "<style scoped>\n",
       "    .dataframe tbody tr th:only-of-type {\n",
       "        vertical-align: middle;\n",
       "    }\n",
       "\n",
       "    .dataframe tbody tr th {\n",
       "        vertical-align: top;\n",
       "    }\n",
       "\n",
       "    .dataframe thead th {\n",
       "        text-align: right;\n",
       "    }\n",
       "</style>\n",
       "<table border=\"1\" class=\"dataframe\">\n",
       "  <thead>\n",
       "    <tr style=\"text-align: right;\">\n",
       "      <th></th>\n",
       "      <th>genres</th>\n",
       "      <th>stems</th>\n",
       "      <th>moods</th>\n",
       "      <th>filename</th>\n",
       "      <th>bpm</th>\n",
       "      <th>key</th>\n",
       "      <th>duration</th>\n",
       "      <th>origin</th>\n",
       "      <th>main_genre</th>\n",
       "      <th>file_path</th>\n",
       "    </tr>\n",
       "  </thead>\n",
       "  <tbody>\n",
       "    <tr>\n",
       "      <th>0</th>\n",
       "      <td>[blues]</td>\n",
       "      <td>[]</td>\n",
       "      <td>[]</td>\n",
       "      <td>blues.00000.wav</td>\n",
       "      <td>None</td>\n",
       "      <td>None</td>\n",
       "      <td>30</td>\n",
       "      <td>gtzan</td>\n",
       "      <td>blues</td>\n",
       "      <td>/mnt/d/sonus_library/gtzan/blues/blues.00000.wav</td>\n",
       "    </tr>\n",
       "    <tr>\n",
       "      <th>1</th>\n",
       "      <td>[blues]</td>\n",
       "      <td>[]</td>\n",
       "      <td>[]</td>\n",
       "      <td>blues.00001.wav</td>\n",
       "      <td>None</td>\n",
       "      <td>None</td>\n",
       "      <td>30</td>\n",
       "      <td>gtzan</td>\n",
       "      <td>blues</td>\n",
       "      <td>/mnt/d/sonus_library/gtzan/blues/blues.00001.wav</td>\n",
       "    </tr>\n",
       "    <tr>\n",
       "      <th>2</th>\n",
       "      <td>[blues]</td>\n",
       "      <td>[]</td>\n",
       "      <td>[]</td>\n",
       "      <td>blues.00002.wav</td>\n",
       "      <td>None</td>\n",
       "      <td>None</td>\n",
       "      <td>30</td>\n",
       "      <td>gtzan</td>\n",
       "      <td>blues</td>\n",
       "      <td>/mnt/d/sonus_library/gtzan/blues/blues.00002.wav</td>\n",
       "    </tr>\n",
       "    <tr>\n",
       "      <th>3</th>\n",
       "      <td>[blues]</td>\n",
       "      <td>[]</td>\n",
       "      <td>[]</td>\n",
       "      <td>blues.00003.wav</td>\n",
       "      <td>None</td>\n",
       "      <td>None</td>\n",
       "      <td>30</td>\n",
       "      <td>gtzan</td>\n",
       "      <td>blues</td>\n",
       "      <td>/mnt/d/sonus_library/gtzan/blues/blues.00003.wav</td>\n",
       "    </tr>\n",
       "    <tr>\n",
       "      <th>4</th>\n",
       "      <td>[blues]</td>\n",
       "      <td>[]</td>\n",
       "      <td>[]</td>\n",
       "      <td>blues.00004.wav</td>\n",
       "      <td>None</td>\n",
       "      <td>None</td>\n",
       "      <td>30</td>\n",
       "      <td>gtzan</td>\n",
       "      <td>blues</td>\n",
       "      <td>/mnt/d/sonus_library/gtzan/blues/blues.00004.wav</td>\n",
       "    </tr>\n",
       "  </tbody>\n",
       "</table>\n",
       "</div>"
      ],
      "text/plain": [
       "    genres stems moods         filename   bpm   key  duration origin  \\\n",
       "0  [blues]    []    []  blues.00000.wav  None  None        30  gtzan   \n",
       "1  [blues]    []    []  blues.00001.wav  None  None        30  gtzan   \n",
       "2  [blues]    []    []  blues.00002.wav  None  None        30  gtzan   \n",
       "3  [blues]    []    []  blues.00003.wav  None  None        30  gtzan   \n",
       "4  [blues]    []    []  blues.00004.wav  None  None        30  gtzan   \n",
       "\n",
       "  main_genre                                         file_path  \n",
       "0      blues  /mnt/d/sonus_library/gtzan/blues/blues.00000.wav  \n",
       "1      blues  /mnt/d/sonus_library/gtzan/blues/blues.00001.wav  \n",
       "2      blues  /mnt/d/sonus_library/gtzan/blues/blues.00002.wav  \n",
       "3      blues  /mnt/d/sonus_library/gtzan/blues/blues.00003.wav  \n",
       "4      blues  /mnt/d/sonus_library/gtzan/blues/blues.00004.wav  "
      ]
     },
     "execution_count": 6,
     "metadata": {},
     "output_type": "execute_result"
    }
   ],
   "source": [
    "descriptions = list(map(load_description, files))\n",
    "descriptions = [d for description in descriptions for d in description]\n",
    "df = pd.DataFrame(descriptions)\n",
    "df.head()"
   ]
  },
  {
   "cell_type": "markdown",
   "id": "c6415204",
   "metadata": {},
   "source": [
    "# 2 - audio split test/train"
   ]
  },
  {
   "cell_type": "code",
   "execution_count": 7,
   "id": "00a78961",
   "metadata": {},
   "outputs": [],
   "source": [
    "from sklearn.model_selection import train_test_split\n",
    "\n",
    "df_train, df_test = train_test_split(df, test_size=0.2, stratify=df['main_genre'], random_state=42)\n",
    "df_train[\"mode\"] = \"train\"\n",
    "df_test[\"mode\"] = \"test\"\n",
    "df = pd.concat([df_train, df_test])"
   ]
  },
  {
   "cell_type": "code",
   "execution_count": 8,
   "id": "26745659",
   "metadata": {},
   "outputs": [
    {
     "data": {
      "text/plain": [
       "mode\n",
       "train    799\n",
       "test     200\n",
       "Name: count, dtype: int64"
      ]
     },
     "execution_count": 8,
     "metadata": {},
     "output_type": "execute_result"
    }
   ],
   "source": [
    "df[\"mode\"].value_counts()"
   ]
  },
  {
   "cell_type": "markdown",
   "id": "b469e02c-468b-4013-9710-00d3a75eb2bd",
   "metadata": {},
   "source": [
    "## 3. Split audio into chunks"
   ]
  },
  {
   "cell_type": "code",
   "execution_count": 9,
   "id": "fbcc329f-682d-4f2b-9717-d44e02f85524",
   "metadata": {},
   "outputs": [],
   "source": [
    "def get_chunk_endpoints(track_duration:int, chunk_duration:int, stride_factor:float=1) ->list[tuple]:\n",
    "    \"\"\"split the track into start and end sub intervals\"\"\"\n",
    "    track_duration = int(track_duration)\n",
    "    chunk_duration = int(chunk_duration)\n",
    "    stride = int(chunk_duration * stride_factor)\n",
    "    assert stride != 0\n",
    "    \n",
    "    intervals = []\n",
    "    for i in range(0, track_duration, stride):\n",
    "        intervals.append((i, i+chunk_duration))\n",
    "    return intervals\n",
    "\n",
    "\n",
    "#assign a unique identifier to each track\n",
    "df[\"track_id\"] = df.groupby(by=[\"file_path\"]).ngroup()\n",
    "assert not df[\"track_id\"].isna().any()\n",
    "\n",
    "#split the tracks into chunks (with or without potential overlap)\n",
    "df[\"endpoints\"] = df.apply(lambda x : get_chunk_endpoints(x[\"duration\"], chunk_duration, chunk_stride_factor), axis=1)\n",
    "df[\"duration\"] = chunk_duration\n",
    "df[\"sample_rate\"] = sample_rate\n",
    "\n",
    "df = df.explode(\"endpoints\")\n",
    "df.reset_index(inplace=True)\n",
    "df[\"h5_index\"] = df.index"
   ]
  },
  {
   "cell_type": "code",
   "execution_count": 10,
   "id": "7c40337f-4646-4b21-b32b-d277d3d9a135",
   "metadata": {},
   "outputs": [
    {
     "data": {
      "text/html": [
       "<div>\n",
       "<style scoped>\n",
       "    .dataframe tbody tr th:only-of-type {\n",
       "        vertical-align: middle;\n",
       "    }\n",
       "\n",
       "    .dataframe tbody tr th {\n",
       "        vertical-align: top;\n",
       "    }\n",
       "\n",
       "    .dataframe thead th {\n",
       "        text-align: right;\n",
       "    }\n",
       "</style>\n",
       "<table border=\"1\" class=\"dataframe\">\n",
       "  <thead>\n",
       "    <tr style=\"text-align: right;\">\n",
       "      <th></th>\n",
       "      <th>index</th>\n",
       "      <th>genres</th>\n",
       "      <th>stems</th>\n",
       "      <th>moods</th>\n",
       "      <th>filename</th>\n",
       "      <th>bpm</th>\n",
       "      <th>key</th>\n",
       "      <th>duration</th>\n",
       "      <th>origin</th>\n",
       "      <th>main_genre</th>\n",
       "      <th>file_path</th>\n",
       "      <th>mode</th>\n",
       "      <th>track_id</th>\n",
       "      <th>endpoints</th>\n",
       "      <th>sample_rate</th>\n",
       "      <th>h5_index</th>\n",
       "    </tr>\n",
       "  </thead>\n",
       "  <tbody>\n",
       "    <tr>\n",
       "      <th>0</th>\n",
       "      <td>540</td>\n",
       "      <td>[jazz]</td>\n",
       "      <td>[]</td>\n",
       "      <td>[]</td>\n",
       "      <td>jazz.00040.wav</td>\n",
       "      <td>None</td>\n",
       "      <td>None</td>\n",
       "      <td>5</td>\n",
       "      <td>gtzan</td>\n",
       "      <td>jazz</td>\n",
       "      <td>/mnt/d/sonus_library/gtzan/jazz/jazz.00040.wav</td>\n",
       "      <td>train</td>\n",
       "      <td>540</td>\n",
       "      <td>(0, 5)</td>\n",
       "      <td>16000</td>\n",
       "      <td>0</td>\n",
       "    </tr>\n",
       "    <tr>\n",
       "      <th>1</th>\n",
       "      <td>540</td>\n",
       "      <td>[jazz]</td>\n",
       "      <td>[]</td>\n",
       "      <td>[]</td>\n",
       "      <td>jazz.00040.wav</td>\n",
       "      <td>None</td>\n",
       "      <td>None</td>\n",
       "      <td>5</td>\n",
       "      <td>gtzan</td>\n",
       "      <td>jazz</td>\n",
       "      <td>/mnt/d/sonus_library/gtzan/jazz/jazz.00040.wav</td>\n",
       "      <td>train</td>\n",
       "      <td>540</td>\n",
       "      <td>(2, 7)</td>\n",
       "      <td>16000</td>\n",
       "      <td>1</td>\n",
       "    </tr>\n",
       "    <tr>\n",
       "      <th>2</th>\n",
       "      <td>540</td>\n",
       "      <td>[jazz]</td>\n",
       "      <td>[]</td>\n",
       "      <td>[]</td>\n",
       "      <td>jazz.00040.wav</td>\n",
       "      <td>None</td>\n",
       "      <td>None</td>\n",
       "      <td>5</td>\n",
       "      <td>gtzan</td>\n",
       "      <td>jazz</td>\n",
       "      <td>/mnt/d/sonus_library/gtzan/jazz/jazz.00040.wav</td>\n",
       "      <td>train</td>\n",
       "      <td>540</td>\n",
       "      <td>(4, 9)</td>\n",
       "      <td>16000</td>\n",
       "      <td>2</td>\n",
       "    </tr>\n",
       "    <tr>\n",
       "      <th>3</th>\n",
       "      <td>540</td>\n",
       "      <td>[jazz]</td>\n",
       "      <td>[]</td>\n",
       "      <td>[]</td>\n",
       "      <td>jazz.00040.wav</td>\n",
       "      <td>None</td>\n",
       "      <td>None</td>\n",
       "      <td>5</td>\n",
       "      <td>gtzan</td>\n",
       "      <td>jazz</td>\n",
       "      <td>/mnt/d/sonus_library/gtzan/jazz/jazz.00040.wav</td>\n",
       "      <td>train</td>\n",
       "      <td>540</td>\n",
       "      <td>(6, 11)</td>\n",
       "      <td>16000</td>\n",
       "      <td>3</td>\n",
       "    </tr>\n",
       "    <tr>\n",
       "      <th>4</th>\n",
       "      <td>540</td>\n",
       "      <td>[jazz]</td>\n",
       "      <td>[]</td>\n",
       "      <td>[]</td>\n",
       "      <td>jazz.00040.wav</td>\n",
       "      <td>None</td>\n",
       "      <td>None</td>\n",
       "      <td>5</td>\n",
       "      <td>gtzan</td>\n",
       "      <td>jazz</td>\n",
       "      <td>/mnt/d/sonus_library/gtzan/jazz/jazz.00040.wav</td>\n",
       "      <td>train</td>\n",
       "      <td>540</td>\n",
       "      <td>(8, 13)</td>\n",
       "      <td>16000</td>\n",
       "      <td>4</td>\n",
       "    </tr>\n",
       "  </tbody>\n",
       "</table>\n",
       "</div>"
      ],
      "text/plain": [
       "   index  genres stems moods        filename   bpm   key  duration origin  \\\n",
       "0    540  [jazz]    []    []  jazz.00040.wav  None  None         5  gtzan   \n",
       "1    540  [jazz]    []    []  jazz.00040.wav  None  None         5  gtzan   \n",
       "2    540  [jazz]    []    []  jazz.00040.wav  None  None         5  gtzan   \n",
       "3    540  [jazz]    []    []  jazz.00040.wav  None  None         5  gtzan   \n",
       "4    540  [jazz]    []    []  jazz.00040.wav  None  None         5  gtzan   \n",
       "\n",
       "  main_genre                                       file_path   mode  track_id  \\\n",
       "0       jazz  /mnt/d/sonus_library/gtzan/jazz/jazz.00040.wav  train       540   \n",
       "1       jazz  /mnt/d/sonus_library/gtzan/jazz/jazz.00040.wav  train       540   \n",
       "2       jazz  /mnt/d/sonus_library/gtzan/jazz/jazz.00040.wav  train       540   \n",
       "3       jazz  /mnt/d/sonus_library/gtzan/jazz/jazz.00040.wav  train       540   \n",
       "4       jazz  /mnt/d/sonus_library/gtzan/jazz/jazz.00040.wav  train       540   \n",
       "\n",
       "  endpoints sample_rate  h5_index  \n",
       "0    (0, 5)       16000         0  \n",
       "1    (2, 7)       16000         1  \n",
       "2    (4, 9)       16000         2  \n",
       "3   (6, 11)       16000         3  \n",
       "4   (8, 13)       16000         4  "
      ]
     },
     "execution_count": 10,
     "metadata": {},
     "output_type": "execute_result"
    }
   ],
   "source": [
    "df.head()"
   ]
  },
  {
   "cell_type": "code",
   "execution_count": 11,
   "id": "e77b40d5",
   "metadata": {},
   "outputs": [],
   "source": [
    "for k, v in dict(df[\"h5_index\"].value_counts()).items():\n",
    "    if v !=1:\n",
    "        print(k)"
   ]
  },
  {
   "cell_type": "markdown",
   "id": "a9ad5381-38ee-44d9-831c-0d237a46b471",
   "metadata": {},
   "source": [
    "## 4 - Save dataset & model config"
   ]
  },
  {
   "cell_type": "code",
   "execution_count": 12,
   "id": "e58c27c6-50db-483f-98c9-3b7dc916b06d",
   "metadata": {},
   "outputs": [],
   "source": [
    "dataset_dir = os.path.dirname(output_dataset_path)\n",
    "os.makedirs(dataset_dir, exist_ok=True)\n",
    "df.to_parquet(output_dataset_path)"
   ]
  },
  {
   "cell_type": "code",
   "execution_count": null,
   "id": "8ad27009",
   "metadata": {},
   "outputs": [],
   "source": []
  }
 ],
 "metadata": {
  "kernelspec": {
   "display_name": "venv",
   "language": "python",
   "name": "python3"
  },
  "language_info": {
   "codemirror_mode": {
    "name": "ipython",
    "version": 3
   },
   "file_extension": ".py",
   "mimetype": "text/x-python",
   "name": "python",
   "nbconvert_exporter": "python",
   "pygments_lexer": "ipython3",
   "version": "3.12.3"
  }
 },
 "nbformat": 4,
 "nbformat_minor": 5
}
